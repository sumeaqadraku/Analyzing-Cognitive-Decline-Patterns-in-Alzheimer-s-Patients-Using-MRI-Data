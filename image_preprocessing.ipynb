{
 "cells": [
  {
   "cell_type": "code",
   "execution_count": null,
   "metadata": {},
   "outputs": [],
   "source": [
    "import SimpleITK as sitk\n",
    "\n",
    "# Load the NIfTI image\n",
    "image = sitk.ReadImage('sub-01_ses-2015_T1w.nii')\n",
    "\n",
    "# Convert to a NumPy array for further processing\n",
    "image_array = sitk.GetArrayFromImage(image)\n",
    "\n",
    "# Print image dimensions\n",
    "print(f\"Image dimensions: {image.GetSize()}\")\n",
    "print(f\"Image spacing: {image.GetSpacing()}\")\n",
    "\n",
    "# Display an image slice (for 3D images)\n",
    "import matplotlib.pyplot as plt\n",
    "plt.imshow(image_array[image_array.shape[0] // 2], cmap='gray')\n",
    "plt.title('Image Slice')\n",
    "plt.show()\n"
   ]
  },
  {
   "cell_type": "code",
   "execution_count": null,
   "metadata": {},
   "outputs": [],
   "source": [
    "import numpy as np\n",
    "# Convert SimpleITK image to numpy array\n",
    "image_array = sitk.GetArrayFromImage(smoothed_image)\n",
    "# Example feature: Mean intensity value\n",
    "mean_intensity = np.mean(image_array)\n"
   ]
  },
  {
   "cell_type": "code",
   "execution_count": null,
   "metadata": {},
   "outputs": [],
   "source": [
    "import pandas as pd\n",
    "\n",
    "# Load cognitive test results\n",
    "cognitive_data = pd.read_csv('path_to_cognitive_data.csv')\n"
   ]
  }
 ],
 "metadata": {
  "kernelspec": {
   "display_name": "Python 3",
   "language": "python",
   "name": "python3"
  },
  "language_info": {
   "codemirror_mode": {
    "name": "ipython",
    "version": 3
   },
   "file_extension": ".py",
   "mimetype": "text/x-python",
   "name": "python",
   "nbconvert_exporter": "python",
   "pygments_lexer": "ipython3",
   "version": "3.11.0"
  }
 },
 "nbformat": 4,
 "nbformat_minor": 2
}
